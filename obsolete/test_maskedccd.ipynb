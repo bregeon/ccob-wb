{
 "cells": [
  {
   "cell_type": "code",
   "execution_count": 8,
   "metadata": {
    "collapsed": true
   },
   "outputs": [],
   "source": [
    "import astropy.io.fits as fits\n",
    "#from lsst.eotest.fitsTools import fitsWriteto\n",
    "import lsst.daf.base as dafBase\n",
    "import lsst.afw.geom as afwGeom\n",
    "import lsst.afw.image as afwImage\n",
    "import lsst.afw.math as afwMath\n",
    "import lsst.ip.isr as ipIsr\n",
    "import lsst.pex.exceptions as pexExcept\n",
    "#import lsst.eotest.image_utils as imutils\n",
    "import sys\n",
    "sys.path.insert(0, '/sps/lsst/CCOB/eotest/python/lsst/eotest/')\n",
    "sys.path.insert(0, '/sps/lsst/CCOB/eotest/python/lsst/eotest/sensor')\n",
    "from fitsTools import fitsWriteto\n",
    "import image_utils as imutils\n",
    "from AmplifierGeometry import makeAmplifierGeometry\n"
   ]
  },
  {
   "cell_type": "code",
   "execution_count": 34,
   "metadata": {
    "collapsed": true
   },
   "outputs": [],
   "source": [
    "class MaskedCCDBiasImageException(RuntimeError):\n",
    "    def __init__(self, *args):\n",
    "        super(MaskedCCDBiasImageException, self).__init__(*args)\n",
    "\n",
    "class MaskedCCD(dict):\n",
    "    \"\"\"\n",
    "    This is the main abstraction for handling CCD data in the sensor\n",
    "    acceptance test scripts.  The pixel data for each segment is\n",
    "    represented by a MaskedImageF object and are accessed via the\n",
    "    amplifier number.  Masks can be added and manipulated separately\n",
    "    by various methods.\n",
    "    \"\"\"\n",
    "    def __init__(self, imfile, mask_files=(), bias_frame=None, applyMasks=True):\n",
    "        super(MaskedCCD, self).__init__()\n",
    "        self.imfile = imfile\n",
    "        self.md = imutils.Metadata(imfile, 1)\n",
    "        self.amp_geom = makeAmplifierGeometry(imfile)\n",
    "        all_amps = imutils.allAmps(imfile)\n",
    "        print all_amps\n",
    "        for amp in all_amps:\n",
    "            amp-=1\n",
    "            image = afwImage.ImageF(imfile, imutils.dm_hdu(amp))\n",
    "            mask = afwImage.Mask(image.getDimensions())\n",
    "            self[amp] = afwImage.MaskedImageF(image, mask)\n",
    "        self._added_mask_types = []\n",
    "        for mask_file in mask_files:\n",
    "            self.add_masks(mask_file)\n",
    "        self.stat_ctrl = afwMath.StatisticsControl()\n",
    "        if mask_files:\n",
    "            self.setAllMasks()\n",
    "        if bias_frame is not None:\n",
    "            self.bias_frame = MaskedCCD(bias_frame)\n",
    "        else:\n",
    "            self.bias_frame = None\n",
    "        self._applyMasks = applyMasks\n",
    "        \n",
    "    def applyInterpolateFromMask(self, maskedImage, fwhm=0.001):\n",
    "        for maskName in self._added_mask_types:\n",
    "            try:\n",
    "                ipIsr.interpolateFromMask(maskedImage, fwhm=fwhm,\n",
    "                                          maskName=maskName)\n",
    "            except pexExcept.InvalidParameterError:\n",
    "                pass\n",
    "    def mask_plane_dict(self):\n",
    "        amp = self.keys()[0]\n",
    "        return dict(self[amp].getMask().getMaskPlaneDict().items())\n",
    "    def add_masks(self, mask_file):\n",
    "        \"\"\"\n",
    "        Add a masks from a mask file by or-ing with existing masks.\n",
    "        \"\"\"\n",
    "        md = imutils.Metadata(mask_file, 1)\n",
    "        self._added_mask_types.append(md('MASKTYPE'))\n",
    "        for amp in self:\n",
    "            curr_mask = self[amp].getMask()\n",
    "            curr_mask |= afwImage.MaskU(mask_file, imutils.dm_hdu(amp))\n",
    "    def setMask(self, mask_name=None, clear=False):\n",
    "        \"\"\"\n",
    "        Enable a mask and return the afwMath.StatisticsControl object\n",
    "        for use by afwMath.makeStatistics. If clear is False, then the\n",
    "        new mask is or'd with the existing mask.  If clear is False\n",
    "        and mask_name is None, then all mask bits are cleared.\n",
    "        \"\"\"\n",
    "        if clear:                         # Unset all masks.\n",
    "            self.stat_ctrl.setAndMask(0)\n",
    "        if mask_name is not None:         # Set the desired mask.\n",
    "            new_mask = (self.stat_ctrl.getAndMask()\n",
    "                        | afwImage.MaskU.getPlaneBitMask(mask_name))\n",
    "            self.stat_ctrl.setAndMask(new_mask)\n",
    "        return self.stat_ctrl\n",
    "    def setAllMasks(self):\n",
    "        \"Enable all masks.\"\n",
    "        mpd = self.mask_plane_dict()\n",
    "        mask_bits = 2**len(mpd) - 1\n",
    "        self.stat_ctrl.setAndMask(mask_bits)\n",
    "        return self.stat_ctrl\n",
    "\n",
    "    def bias_image_using_overscan(self, amp, overscan=None, fit_order=1):\n",
    "        if overscan is None:\n",
    "            overscan = self.amp_geom.serial_overscan\n",
    "        try:\n",
    "            return imutils.bias_image(self[amp], overscan=overscan,\n",
    "                                      fit_order=fit_order)\n",
    "        except pexExcept.LSST_RUNTIME_EXCEPTION as eobj:\n",
    "            raise MaskedCCDBiasImageException(\"DM stack error generating bias \"\n",
    "                                              + \"image from overscan region:\\n\"\n",
    "                                              + str(eobj))\n",
    "\n",
    "    def bias_image(self, amp, overscan=None, fit_order=1):\n",
    "        \"\"\"\n",
    "        Use separately stored metadata to determine file-specified\n",
    "        overscan region.\n",
    "        \"\"\"\n",
    "        if self.bias_frame is not None:\n",
    "            #\n",
    "            # Use bias frame, if available, instead of overscan region\n",
    "            #\n",
    "            return self.bias_frame[amp].getImage()\n",
    "        return self.bias_image_using_overscan(amp, overscan=overscan,\n",
    "                                              fit_order=fit_order)\n",
    "\n",
    "    def bias_subtracted_image(self, amp, overscan=None, fit_order=1):\n",
    "        if self.bias_frame is not None:\n",
    "            # Make a deep copy of the bias frame.\n",
    "            bias = self.bias_frame[amp].Factory(self.bias_frame[amp])\n",
    "            # Subtract x-independent component using overscan.\n",
    "            bias -= \\\n",
    "                self.bias_frame.bias_image_using_overscan(amp,\n",
    "                                                          overscan=overscan,\n",
    "                                                          fit_order=fit_order)\n",
    "            # Subtract x-independent component of image for this amp\n",
    "            # using overscan.\n",
    "            self[amp] -= \\\n",
    "                self.bias_image_using_overscan(amp, overscan=overscan,\n",
    "                                               fit_order=fit_order)\n",
    "            # Subtract structured, x-dependent part.\n",
    "            self[amp] -= bias\n",
    "        else:\n",
    "            self[amp] -= self.bias_image(amp, overscan, fit_order)\n",
    "        return self[amp]\n",
    "\n",
    "    def unbiased_and_trimmed_image(self, amp, overscan=None,\n",
    "                                   imaging=None, fit_order=1):\n",
    "        unbiased_image = self.bias_subtracted_image(amp, overscan, fit_order)\n",
    "        if imaging is None:\n",
    "            imaging = self.amp_geom.imaging\n",
    "        mi = imutils.trim(unbiased_image, imaging)\n",
    "        if self._applyMasks:\n",
    "            self.applyInterpolateFromMask(mi)\n",
    "        return mi\n",
    "\n",
    "def add_mask_files(mask_files, outfile, clobber=True):\n",
    "    amp_list = imutils.allAmps(mask_files[0])\n",
    "    masks = dict([(amp, afwImage.MaskU(mask_files[0], imutils.dm_hdu(amp)))\n",
    "                  for amp in amp_list])\n",
    "    for mask_file in mask_files[1:]:\n",
    "        for amp in masks:\n",
    "            masks[amp] |= afwImage.MaskU(mask_file, imutils.dm_hdu(amp))\n",
    "    output = fits.HDUList()\n",
    "    output.append(fits.PrimaryHDU())\n",
    "    output[0].header['MASKTYPE'] = 'SUMMED_MASKS'\n",
    "    fitsWriteto(output, outfile, clobber=clobber)\n",
    "    for amp in masks:\n",
    "        md = dafBase.PropertySet()\n",
    "        md.set('EXTNAME', 'SEGMENT%s' % imutils.channelIds[amp])\n",
    "        masks[amp].writeFits(outfile, md, 'a')\n",
    "    return masks\n",
    "\n",
    "def compute_stats(image, sctrl, weights=None):\n",
    "    flags = afwMath.MEAN | afwMath.STDEV\n",
    "    if weights is None:\n",
    "        stats = afwMath.makeStatistics(image, flags, sctrl)\n",
    "    else:\n",
    "        stats = afwMath.makeStatistics(image, weights, flags, sctrl)\n",
    "    return stats.getValue(afwMath.MEAN), stats.getValue(afwMath.STDEV)\n",
    "\n"
   ]
  },
  {
   "cell_type": "code",
   "execution_count": 35,
   "metadata": {},
   "outputs": [
    {
     "name": "stdout",
     "output_type": "stream",
     "text": [
      "[1, 2, 3, 4, 5, 6, 7, 8, 9, 10, 11, 12, 13, 14, 15, 16]\n"
     ]
    }
   ],
   "source": [
    "import glob\n",
    "\n",
    "ledcurrent = '_0.01A'\n",
    "exptime = '_0.1s'\n",
    "ccd1 = '11'\n",
    "ccd2 = '10'\n",
    "ccd3 = '12'\n",
    "led = 'red'\n",
    "\n",
    "dirname1 = '/sps/lsst/data/ccombet/CCOB/data_slac_1711/171117/testccob/xy_0_0/'\n",
    "dirname2 = '/sps/lsst/data/ccombet/CCOB/data_slac_1711/171117/testccob/xy_0_42/'\n",
    "dirname3 = '/sps/lsst/data/ccombet/CCOB/data_slac_1711/171117/testccob/xy_0_-42/'\n",
    "\n",
    "filename_base = ccd1 + '_CCOB_' + led + ledcurrent + exptime\n",
    "l = glob.glob(dirname1+filename_base+'*')\n",
    "file1 = l[0]\n",
    "filename_base = ccd2 + '_CCOB_' + led + ledcurrent + exptime\n",
    "l = glob.glob(dirname2+filename_base+'*')\n",
    "file2 = l[0]\n",
    "filename_base = ccd3 + '_CCOB_' + led + ledcurrent + exptime\n",
    "l = glob.glob(dirname3+filename_base+'*')\n",
    "file3 = l[0]\n",
    "\n",
    "ccd = MaskedCCD(file1)\n",
    " "
   ]
  },
  {
   "cell_type": "code",
   "execution_count": 36,
   "metadata": {
    "collapsed": true
   },
   "outputs": [],
   "source": []
  },
  {
   "cell_type": "code",
   "execution_count": 62,
   "metadata": {},
   "outputs": [
    {
     "data": {
      "text/plain": [
       "<matplotlib.image.AxesImage at 0x7fb54ddbe850>"
      ]
     },
     "execution_count": 62,
     "metadata": {},
     "output_type": "execute_result"
    },
    {
     "data": {
      "image/png": "[encoded data removed]",
      "text/plain": [
       "<matplotlib.figure.Figure at 0x7fb4b896ec50>"
      ]
     },
     "metadata": {},
     "output_type": "display_data"
    }
   ],
   "source": [
    "import numpy as np\n",
    "import matplotlib.pyplot as plt\n",
    "%matplotlib inline\n",
    "kk = ccd.unbiased_and_trimmed_image(1)\n",
    "kk.getArrays()[0]\n",
    "plt.imshow(kk.getArrays()[0])"
   ]
  },
  {
   "cell_type": "code",
   "execution_count": 31,
   "metadata": {},
   "outputs": [
    {
     "data": {
      "text/plain": [
       "array([[ 25469.,  25611.,  25521., ...,  24999.,  25015.,  25001.],\n",
       "       [ 25472.,  25473.,  25416., ...,  25019.,  25015.,  25026.],\n",
       "       [ 25464.,  25469.,  25427., ...,  25009.,  25028.,  25013.],\n",
       "       ..., \n",
       "       [ 25463.,  25448.,  25365., ...,  25020.,  25020.,  25013.],\n",
       "       [ 25466.,  25423.,  25376., ...,  25003.,  25015.,  25010.],\n",
       "       [ 25464.,  25445.,  25368., ...,  25029.,  25001.,  25007.]], dtype=float32)"
      ]
     },
     "execution_count": 31,
     "metadata": {},
     "output_type": "execute_result"
    }
   ],
   "source": []
  },
  {
   "cell_type": "code",
   "execution_count": null,
   "metadata": {
    "collapsed": true
   },
   "outputs": [],
   "source": []
  }
 ],
 "metadata": {
  "kernelspec": {
   "display_name": "Python 2",
   "language": "python",
   "name": "python2"
  },
  "language_info": {
   "codemirror_mode": {
    "name": "ipython",
    "version": 2
   },
   "file_extension": ".py",
   "mimetype": "text/x-python",
   "name": "python",
   "nbconvert_exporter": "python",
   "pygments_lexer": "ipython2",
   "version": "2.7.13"
  }
 },
 "nbformat": 4,
 "nbformat_minor": 2
}
