{
 "cells": [
  {
   "cell_type": "code",
   "execution_count": 103,
   "metadata": {},
   "outputs": [],
   "source": [
    "import os\n",
    "import glob\n",
    "import py_compile\n",
    "import ccob_utils\n",
    "import numpy as np\n",
    "import pyfits\n",
    "import matplotlib.pyplot as plt"
   ]
  },
  {
   "cell_type": "code",
   "execution_count": 188,
   "metadata": {},
   "outputs": [],
   "source": [
    "config = ccob_utils.load_ccob_config('ccob_config.yaml')"
   ]
  },
  {
   "cell_type": "code",
   "execution_count": 189,
   "metadata": {},
   "outputs": [
    {
     "data": {
      "text/plain": [
       "{'current': '*',\n",
       " 'eo_data_path': '/gpfs/slac/lsst/fs1/g/data/jobHarness/jh_archive/LCA-11021_RTM/LCA-11021_RTM-005/6288/collect_raft_results/v0/37124',\n",
       " 'exp_time': '*',\n",
       " 'led_name': 'red',\n",
       " 'path': '/gpfs/slac/lsst/fs1/g/data/R_and_D/RTM-005/171214/ccobxy',\n",
       " 'slot': '*',\n",
       " 'tmp_dir': '/home/combet/tmp_new/',\n",
       " 'xpos': '300',\n",
       " 'ypos': '192'}"
      ]
     },
     "execution_count": 189,
     "metadata": {},
     "output_type": "execute_result"
    }
   ],
   "source": [
    "config"
   ]
  },
  {
   "cell_type": "code",
   "execution_count": 218,
   "metadata": {},
   "outputs": [
    {
     "name": "stdout",
     "output_type": "stream",
     "text": [
      "/gpfs/slac/lsst/fs1/g/data/R_and_D/RTM-005/171214/ccobxy/*_CCOB_nm750_*_*_X300_Y192*\n"
     ]
    }
   ],
   "source": [
    "config['slot']='*'\n",
    "config['led_name'] = 'nm750'\n",
    "file_list = ccob_utils.find_files(config)"
   ]
  },
  {
   "cell_type": "code",
   "execution_count": 219,
   "metadata": {},
   "outputs": [],
   "source": [
    "basenames = [os.path.basename(ffile) for ffile in file_list]"
   ]
  },
  {
   "cell_type": "code",
   "execution_count": 220,
   "metadata": {},
   "outputs": [
    {
     "name": "stdout",
     "output_type": "stream",
     "text": [
      "00_CCOB_nm750_0.012A_0.06s_X300_Y192_0000_20171215013413.fits\n"
     ]
    },
    {
     "data": {
      "text/plain": [
       "-100.348769844"
      ]
     },
     "execution_count": 220,
     "metadata": {},
     "output_type": "execute_result"
    }
   ],
   "source": [
    "print basenames[0]\n",
    "basenames[0].split('_')[-1].split('.')[0]\n",
    "pyfits.open(file_list[0])[0].header['CCDTEMP']"
   ]
  },
  {
   "cell_type": "code",
   "execution_count": 221,
   "metadata": {},
   "outputs": [
    {
     "name": "stdout",
     "output_type": "stream",
     "text": [
      "/gpfs/slac/lsst/fs1/g/data/R_and_D/RTM-005/171214/ccobxy/00_CCOB_nm750_0.012A_0.06s_X300_Y192_0000_20171215013413.fits -100.348769844\n",
      "/gpfs/slac/lsst/fs1/g/data/R_and_D/RTM-005/171214/ccobxy/00_CCOB_nm750_0.01A_0.01s_X300_Y192_0000_20171215013424.fits -100.348769844\n",
      "/gpfs/slac/lsst/fs1/g/data/R_and_D/RTM-005/171214/ccobxy/01_CCOB_nm750_0.012A_0.06s_X300_Y192_0000_20171215013413.fits -100.06545426\n",
      "/gpfs/slac/lsst/fs1/g/data/R_and_D/RTM-005/171214/ccobxy/01_CCOB_nm750_0.01A_0.01s_X300_Y192_0000_20171215013424.fits -100.06545426\n",
      "/gpfs/slac/lsst/fs1/g/data/R_and_D/RTM-005/171214/ccobxy/02_CCOB_nm750_0.012A_0.06s_X300_Y192_0000_20171215013413.fits -100.12025957\n",
      "/gpfs/slac/lsst/fs1/g/data/R_and_D/RTM-005/171214/ccobxy/02_CCOB_nm750_0.01A_0.01s_X300_Y192_0000_20171215013424.fits -100.12025957\n",
      "/gpfs/slac/lsst/fs1/g/data/R_and_D/RTM-005/171214/ccobxy/10_CCOB_nm750_0.012A_0.06s_X300_Y192_0000_20171215013413.fits -99.0817453954\n",
      "/gpfs/slac/lsst/fs1/g/data/R_and_D/RTM-005/171214/ccobxy/10_CCOB_nm750_0.01A_0.01s_X300_Y192_0000_20171215013424.fits -99.0817453954\n",
      "/gpfs/slac/lsst/fs1/g/data/R_and_D/RTM-005/171214/ccobxy/11_CCOB_nm750_0.012A_0.06s_X300_Y192_0000_20171215013413.fits -99.4384443605\n",
      "/gpfs/slac/lsst/fs1/g/data/R_and_D/RTM-005/171214/ccobxy/11_CCOB_nm750_0.01A_0.01s_X300_Y192_0000_20171215013424.fits -99.4384443605\n",
      "/gpfs/slac/lsst/fs1/g/data/R_and_D/RTM-005/171214/ccobxy/12_CCOB_nm750_0.012A_0.06s_X300_Y192_0000_20171215013413.fits -99.8787446456\n",
      "/gpfs/slac/lsst/fs1/g/data/R_and_D/RTM-005/171214/ccobxy/12_CCOB_nm750_0.01A_0.01s_X300_Y192_0000_20171215013424.fits -99.8787446456\n",
      "/gpfs/slac/lsst/fs1/g/data/R_and_D/RTM-005/171214/ccobxy/20_CCOB_nm750_0.012A_0.06s_X300_Y192_0000_20171215013413.fits -99.2025028576\n",
      "/gpfs/slac/lsst/fs1/g/data/R_and_D/RTM-005/171214/ccobxy/20_CCOB_nm750_0.01A_0.01s_X300_Y192_0000_20171215013424.fits -99.2025028576\n",
      "/gpfs/slac/lsst/fs1/g/data/R_and_D/RTM-005/171214/ccobxy/21_CCOB_nm750_0.012A_0.06s_X300_Y192_0000_20171215013413.fits -100.418437611\n",
      "/gpfs/slac/lsst/fs1/g/data/R_and_D/RTM-005/171214/ccobxy/21_CCOB_nm750_0.01A_0.01s_X300_Y192_0000_20171215013424.fits -100.418437611\n",
      "/gpfs/slac/lsst/fs1/g/data/R_and_D/RTM-005/171214/ccobxy/22_CCOB_nm750_0.012A_0.06s_X300_Y192_0000_20171215013413.fits -96.4334413603\n",
      "/gpfs/slac/lsst/fs1/g/data/R_and_D/RTM-005/171214/ccobxy/22_CCOB_nm750_0.01A_0.01s_X300_Y192_0000_20171215013424.fits -96.4334413603\n"
     ]
    }
   ],
   "source": [
    "temp_arr = np.zeros(len(file_list))\n",
    "for i,ffile in enumerate(sorted(file_list)):\n",
    "    temp_arr[i] = pyfits.open(ffile)[0].header['CCDTEMP']\n",
    "    print ffile, temp_arr[i]"
   ]
  },
  {
   "cell_type": "code",
   "execution_count": 222,
   "metadata": {},
   "outputs": [
    {
     "data": {
      "text/plain": [
       "[<matplotlib.lines.Line2D at 0x7f8937247810>]"
      ]
     },
     "execution_count": 222,
     "metadata": {},
     "output_type": "execute_result"
    },
    {
     "data": {
      "image/png": "[encoded data removed]",
      "text/plain": [
       "<matplotlib.figure.Figure at 0x7f89374764d0>"
      ]
     },
     "metadata": {},
     "output_type": "display_data"
    }
   ],
   "source": [
    "plt.plot(temp_arr, marker='.')\n"
   ]
  },
  {
   "cell_type": "code",
   "execution_count": 223,
   "metadata": {},
   "outputs": [
    {
     "data": {
      "text/plain": [
       "'/gpfs/slac/lsst/fs1/g/data/R_and_D/RTM-005/171214/ccobxy/20_CCOB_nm750_0.012A_0.06s_X300_Y192_0000_20171215013413.fits'"
      ]
     },
     "execution_count": 223,
     "metadata": {},
     "output_type": "execute_result"
    }
   ],
   "source": [
    "file_list[6]"
   ]
  },
  {
   "cell_type": "code",
   "execution_count": null,
   "metadata": {},
   "outputs": [],
   "source": []
  },
  {
   "cell_type": "code",
   "execution_count": null,
   "metadata": {},
   "outputs": [],
   "source": []
  }
 ],
 "metadata": {
  "kernelspec": {
   "display_name": "Python 2",
   "language": "python",
   "name": "python2"
  },
  "language_info": {
   "codemirror_mode": {
    "name": "ipython",
    "version": 2
   },
   "file_extension": ".py",
   "mimetype": "text/x-python",
   "name": "python",
   "nbconvert_exporter": "python",
   "pygments_lexer": "ipython2",
   "version": "2.7.13"
  }
 },
 "nbformat": 4,
 "nbformat_minor": 2
}
