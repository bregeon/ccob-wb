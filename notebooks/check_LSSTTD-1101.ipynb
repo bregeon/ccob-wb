{
 "cells": [
  {
   "cell_type": "code",
   "execution_count": 1,
   "metadata": {},
   "outputs": [],
   "source": [
    "import os\n",
    "import glob\n",
    "import lsst.eotest.image_utils as imutils\n",
    "import lsst.eotest.sensor as sensorTest\n",
    "import numpy as np\n"
   ]
  },
  {
   "cell_type": "code",
   "execution_count": 2,
   "metadata": {},
   "outputs": [
    {
     "data": {
      "text/plain": [
       "['/gpfs/slac/lsst/fs1/g/data/R_and_D/RTM-006/180420/ccob/red/11_bias_0003_20180420195748.fits.fz',\n",
       " '/gpfs/slac/lsst/fs1/g/data/R_and_D/RTM-006/180420/ccob/red/11_bias_0000_20180420195731.fits.fz',\n",
       " '/gpfs/slac/lsst/fs1/g/data/R_and_D/RTM-006/180420/ccob/red/11_bias_0002_20180420195742.fits.fz',\n",
       " '/gpfs/slac/lsst/fs1/g/data/R_and_D/RTM-006/180420/ccob/red/11_bias_0001_20180420195737.fits.fz',\n",
       " '/gpfs/slac/lsst/fs1/g/data/R_and_D/RTM-006/180420/ccob/red/11_bias_0004_20180420195754.fits.fz']"
      ]
     },
     "execution_count": 2,
     "metadata": {},
     "output_type": "execute_result"
    }
   ],
   "source": [
    "tmp_dir = '/home/combet/tmp_new/' # change it to where you want to write the files\n",
    "slot = '11'   \n",
    "path = '/gpfs/slac/lsst/fs1/g/data/R_and_D/RTM-006/180420/ccob/red'\n",
    "mean_bias_file = slot + '_mean_bias_image_RTM-006_LSSTTD-1101.fits'\n",
    "bias_frames = glob.glob(os.path.join(path, slot + '_bias*'))\n",
    "bias_frames\n"
   ]
  },
  {
   "cell_type": "code",
   "execution_count": 3,
   "metadata": {},
   "outputs": [
    {
     "name": "stderr",
     "output_type": "stream",
     "text": [
      "WARNING: VerifyWarning: Keyword name 'MONOCH-WAVELENG' is greater than 8 characters or contains characters not allowed by the FITS standard; a HIERARCH card will be created. [astropy.io.fits.card]\n",
      "WARNING: VerifyWarning: Keyword name 'MONOCH-SLIT_A' is greater than 8 characters or contains characters not allowed by the FITS standard; a HIERARCH card will be created. [astropy.io.fits.card]\n",
      "WARNING: VerifyWarning: Keyword name 'MONOCH-SLIT_B' is greater than 8 characters or contains characters not allowed by the FITS standard; a HIERARCH card will be created. [astropy.io.fits.card]\n",
      "WARNING: VerifyWarning: Keyword name 'MONOCH-SLIT_C' is greater than 8 characters or contains characters not allowed by the FITS standard; a HIERARCH card will be created. [astropy.io.fits.card]\n",
      "WARNING: VerifyWarning: Keyword name 'MONOCH-BANDPASS' is greater than 8 characters or contains characters not allowed by the FITS standard; a HIERARCH card will be created. [astropy.io.fits.card]\n",
      "WARNING: VerifyWarning: Keyword name 'MONOCH-FILT_1' is greater than 8 characters or contains characters not allowed by the FITS standard; a HIERARCH card will be created. [astropy.io.fits.card]\n",
      "WARNING: VerifyWarning: Keyword name 'MONOCH-MSTEPS' is greater than 8 characters or contains characters not allowed by the FITS standard; a HIERARCH card will be created. [astropy.io.fits.card]\n",
      "WARNING: VerifyWarning: Keyword name 'MONOCH-GRATING' is greater than 8 characters or contains characters not allowed by the FITS standard; a HIERARCH card will be created. [astropy.io.fits.card]\n",
      "WARNING: VerifyWarning: Keyword name 'AMP0-AZERO' is greater than 8 characters or contains characters not allowed by the FITS standard; a HIERARCH card will be created. [astropy.io.fits.card]\n",
      "WARNING: VerifyWarning: Keyword name 'AMP2-ZERO_CHECK' is greater than 8 characters or contains characters not allowed by the FITS standard; a HIERARCH card will be created. [astropy.io.fits.card]\n"
     ]
    }
   ],
   "source": [
    "imutils.fits_mean_file(bias_frames,os.path.join(tmp_dir,mean_bias_file))"
   ]
  },
  {
   "cell_type": "markdown",
   "metadata": {},
   "source": [
    "### Read in one bias frame as reference and compare to imutils.fits_mean_file\n",
    "- Just printing min and max values\n",
    "- Mean bias frame built from fits_mean_file has values orders of magnitude higher than any of the individual bias frames\n",
    "- It seems the fitsWriteto function is responsible, see below"
   ]
  },
  {
   "cell_type": "code",
   "execution_count": 4,
   "metadata": {},
   "outputs": [
    {
     "name": "stdout",
     "output_type": "stream",
     "text": [
      "min ref = 25564\n",
      "max ref = 49365\n",
      "\n",
      "min mean = 1187496320\n",
      "max mean = 1194105344\n"
     ]
    }
   ],
   "source": [
    "ref = sensorTest.MaskedCCD(bias_frames[0])\n",
    "mean_bias = sensorTest.MaskedCCD(os.path.join(tmp_dir,mean_bias_file))\n",
    "d_ref = ref[1].getImage().getArray()\n",
    "d_mean = mean_bias[1].getImage().getArray()\n",
    "\n",
    "print(\"min ref = %i\\nmax ref = %i\"%(np.min(d_ref), np.max(d_ref)))\n",
    "print(\"\\nmin mean = %i\\nmax mean = %i\"%(np.min(d_mean), np.max(d_mean)))"
   ]
  },
  {
   "cell_type": "markdown",
   "metadata": {},
   "source": [
    "### Modification to fits_mean_file to return the array, as well as saving it to .fits file"
   ]
  },
  {
   "cell_type": "code",
   "execution_count": 5,
   "metadata": {},
   "outputs": [],
   "source": [
    "from __future__ import print_function\n",
    "from __future__ import absolute_import\n",
    "from builtins import zip\n",
    "from builtins import range\n",
    "from builtins import object\n",
    "import astropy.io.fits as fits\n",
    "import lsst.afw.image as afwImage\n",
    "import lsst.afw.math as afwMath\n",
    "from lsst.eotest.fitsTools import fitsWriteto\n",
    "\n",
    "def allAmps(fits_file=None):\n",
    "    all_amps = list(range(1, 17))\n",
    "    if fits_file is None:\n",
    "        return all_amps\n",
    "    try:\n",
    "        f = fits.open(fits_file)\n",
    "        f.close()  # close first, in case exception is thrown and file is left open\n",
    "        namps = f[0].header['NAMPS']\n",
    "        return list(range(1, namps+1))\n",
    "    except KeyError:\n",
    "        return all_amps\n",
    "\n",
    "def my_fits_mean_file(files, outfile, overwrite=True):\n",
    "    output = fits.HDUList()\n",
    "    output.append(fits.PrimaryHDU())\n",
    "    all_amps = allAmps()\n",
    "    for amp in all_amps:\n",
    "        images = [afwImage.ImageF(item, amp) for item in files]\n",
    "        mean_image = afwMath.statisticsStack(images, afwMath.MEAN)\n",
    "        output.append(fits.CompImageHDU(data=mean_image.getArray(),\n",
    "                                        compression_type='RICE_1'))\n",
    "    with fits.open(files[0]) as template:\n",
    "        output[0].header.update(template[0].header)\n",
    "        for amp in all_amps:\n",
    "            output[amp].header.update(template[amp].header)\n",
    "            try:\n",
    "                del output[amp].header['BSCALE']\n",
    "                del output[amp].header['BZERO']\n",
    "            except KeyError:\n",
    "                pass\n",
    "        for i in (-3, -2, -1):\n",
    "            output.append(template[i])\n",
    "        fitsWriteto(output, outfile, overwrite=overwrite)    \n",
    "    return output"
   ]
  },
  {
   "cell_type": "code",
   "execution_count": 6,
   "metadata": {},
   "outputs": [
    {
     "name": "stderr",
     "output_type": "stream",
     "text": [
      "WARNING: VerifyWarning: Keyword name 'MONOCH-WAVELENG' is greater than 8 characters or contains characters not allowed by the FITS standard; a HIERARCH card will be created. [astropy.io.fits.card]\n",
      "WARNING: VerifyWarning: Keyword name 'MONOCH-SLIT_A' is greater than 8 characters or contains characters not allowed by the FITS standard; a HIERARCH card will be created. [astropy.io.fits.card]\n",
      "WARNING: VerifyWarning: Keyword name 'MONOCH-SLIT_B' is greater than 8 characters or contains characters not allowed by the FITS standard; a HIERARCH card will be created. [astropy.io.fits.card]\n",
      "WARNING: VerifyWarning: Keyword name 'MONOCH-SLIT_C' is greater than 8 characters or contains characters not allowed by the FITS standard; a HIERARCH card will be created. [astropy.io.fits.card]\n",
      "WARNING: VerifyWarning: Keyword name 'MONOCH-BANDPASS' is greater than 8 characters or contains characters not allowed by the FITS standard; a HIERARCH card will be created. [astropy.io.fits.card]\n",
      "WARNING: VerifyWarning: Keyword name 'MONOCH-FILT_1' is greater than 8 characters or contains characters not allowed by the FITS standard; a HIERARCH card will be created. [astropy.io.fits.card]\n",
      "WARNING: VerifyWarning: Keyword name 'MONOCH-MSTEPS' is greater than 8 characters or contains characters not allowed by the FITS standard; a HIERARCH card will be created. [astropy.io.fits.card]\n",
      "WARNING: VerifyWarning: Keyword name 'MONOCH-GRATING' is greater than 8 characters or contains characters not allowed by the FITS standard; a HIERARCH card will be created. [astropy.io.fits.card]\n",
      "WARNING: VerifyWarning: Keyword name 'AMP0-AZERO' is greater than 8 characters or contains characters not allowed by the FITS standard; a HIERARCH card will be created. [astropy.io.fits.card]\n",
      "WARNING: VerifyWarning: Keyword name 'AMP2-ZERO_CHECK' is greater than 8 characters or contains characters not allowed by the FITS standard; a HIERARCH card will be created. [astropy.io.fits.card]\n"
     ]
    }
   ],
   "source": [
    "mean_bias_file_new = slot + '_mean_bias_image_RTM-006_LSSTTD-1101_new.fits'\n",
    "m = my_fits_mean_file(bias_frames,os.path.join(tmp_dir,mean_bias_file_new))"
   ]
  },
  {
   "cell_type": "code",
   "execution_count": 7,
   "metadata": {},
   "outputs": [
    {
     "name": "stdout",
     "output_type": "stream",
     "text": [
      "From ref:\n",
      "min = 25564\n",
      "max = 49365\n",
      "\n",
      "From mean output (what is written to the fits file, looks OK):\n",
      "min = 25568\n",
      "max = 44186\n",
      "\n",
      "From mean file (what is read from the fits file, not OK):\n",
      "min = 1187496320\n",
      "max = 1194105344\n"
     ]
    }
   ],
   "source": [
    "mean_bias = sensorTest.MaskedCCD(os.path.join(tmp_dir,mean_bias_file_new))\n",
    "d_mean = mean_bias[1].getImage().getArray()\n",
    "print(\"From ref:\\nmin = %i\\nmax = %i\"%(np.min(d_ref), np.max(d_ref)))\n",
    "print(\"\\nFrom mean output (what is written to the fits file, looks OK):\\nmin = %i\\nmax = %i\"%(np.min(m[1].data), np.max(m[1].data)))\n",
    "print(\"\\nFrom mean file (what is read from the fits file, not OK):\\nmin = %i\\nmax = %i\"%(np.min(d_mean), np.max(d_mean)))\n"
   ]
  },
  {
   "cell_type": "markdown",
   "metadata": {},
   "source": [
    "### Unrelated, but show that plot_flat needs a small fix in python 3"
   ]
  },
  {
   "cell_type": "code",
   "execution_count": 8,
   "metadata": {},
   "outputs": [
    {
     "ename": "TypeError",
     "evalue": "'float' object cannot be interpreted as an integer",
     "output_type": "error",
     "traceback": [
      "\u001b[0;31m---------------------------------------------------------------------------\u001b[0m",
      "\u001b[0;31mTypeError\u001b[0m                                 Traceback (most recent call last)",
      "\u001b[0;32m<ipython-input-8-8e14bf0dc2b1>\u001b[0m in \u001b[0;36m<module>\u001b[0;34m()\u001b[0m\n\u001b[0;32m----> 1\u001b[0;31m \u001b[0msensorTest\u001b[0m\u001b[0;34m.\u001b[0m\u001b[0mplot_flat\u001b[0m\u001b[0;34m(\u001b[0m\u001b[0mbias_frames\u001b[0m\u001b[0;34m[\u001b[0m\u001b[0;36m0\u001b[0m\u001b[0;34m]\u001b[0m\u001b[0;34m)\u001b[0m\u001b[0;34m\u001b[0m\u001b[0m\n\u001b[0m",
      "\u001b[0;32m/gpfs/slac/lsst/fs2/u1/devel/jchiang/EOTest_dev/eotest/python/lsst/eotest/sensor/EOTestPlots.py\u001b[0m in \u001b[0;36mplot_flat\u001b[0;34m(infile, nsig, cmap, win, subplot, figsize, wl, gains, use_ds9, outfile, title, annotation)\u001b[0m\n\u001b[1;32m    102\u001b[0m     \u001b[0mnx\u001b[0m \u001b[0;34m=\u001b[0m \u001b[0mnx_segments\u001b[0m\u001b[0;34m*\u001b[0m\u001b[0;34m(\u001b[0m\u001b[0mdatasec\u001b[0m\u001b[0;34m[\u001b[0m\u001b[0;34m'xmax'\u001b[0m\u001b[0;34m]\u001b[0m \u001b[0;34m-\u001b[0m \u001b[0mdatasec\u001b[0m\u001b[0;34m[\u001b[0m\u001b[0;34m'xmin'\u001b[0m\u001b[0;34m]\u001b[0m \u001b[0;34m+\u001b[0m \u001b[0;36m1\u001b[0m\u001b[0;34m)\u001b[0m\u001b[0;34m\u001b[0m\u001b[0m\n\u001b[1;32m    103\u001b[0m     \u001b[0mny\u001b[0m \u001b[0;34m=\u001b[0m \u001b[0mny_segments\u001b[0m\u001b[0;34m*\u001b[0m\u001b[0;34m(\u001b[0m\u001b[0mdatasec\u001b[0m\u001b[0;34m[\u001b[0m\u001b[0;34m'ymax'\u001b[0m\u001b[0;34m]\u001b[0m \u001b[0;34m-\u001b[0m \u001b[0mdatasec\u001b[0m\u001b[0;34m[\u001b[0m\u001b[0;34m'ymin'\u001b[0m\u001b[0;34m]\u001b[0m \u001b[0;34m+\u001b[0m \u001b[0;36m1\u001b[0m\u001b[0;34m)\u001b[0m\u001b[0;34m\u001b[0m\u001b[0m\n\u001b[0;32m--> 104\u001b[0;31m     \u001b[0mmosaic\u001b[0m \u001b[0;34m=\u001b[0m \u001b[0mnp\u001b[0m\u001b[0;34m.\u001b[0m\u001b[0mzeros\u001b[0m\u001b[0;34m(\u001b[0m\u001b[0;34m(\u001b[0m\u001b[0mny\u001b[0m\u001b[0;34m,\u001b[0m \u001b[0mnx\u001b[0m\u001b[0;34m)\u001b[0m\u001b[0;34m,\u001b[0m \u001b[0mdtype\u001b[0m\u001b[0;34m=\u001b[0m\u001b[0mnp\u001b[0m\u001b[0;34m.\u001b[0m\u001b[0mfloat\u001b[0m\u001b[0;34m)\u001b[0m\u001b[0;34m\u001b[0m\u001b[0m\n\u001b[0m\u001b[1;32m    105\u001b[0m     \u001b[0mamp_coords\u001b[0m \u001b[0;34m=\u001b[0m \u001b[0;34m{\u001b[0m\u001b[0;34m}\u001b[0m\u001b[0;34m\u001b[0m\u001b[0m\n\u001b[1;32m    106\u001b[0m     \u001b[0;32mfor\u001b[0m \u001b[0mypos\u001b[0m \u001b[0;32min\u001b[0m \u001b[0mrange\u001b[0m\u001b[0;34m(\u001b[0m\u001b[0mny_segments\u001b[0m\u001b[0;34m)\u001b[0m\u001b[0;34m:\u001b[0m\u001b[0;34m\u001b[0m\u001b[0m\n",
      "\u001b[0;31mTypeError\u001b[0m: 'float' object cannot be interpreted as an integer"
     ]
    }
   ],
   "source": [
    "sensorTest.plot_flat(bias_frames[0])"
   ]
  },
  {
   "cell_type": "code",
   "execution_count": null,
   "metadata": {},
   "outputs": [],
   "source": []
  }
 ],
 "metadata": {
  "kernelspec": {
   "display_name": "Python 3",
   "language": "python",
   "name": "python3"
  },
  "language_info": {
   "codemirror_mode": {
    "name": "ipython",
    "version": 3
   },
   "file_extension": ".py",
   "mimetype": "text/x-python",
   "name": "python",
   "nbconvert_exporter": "python",
   "pygments_lexer": "ipython3",
   "version": "3.6.2"
  }
 },
 "nbformat": 4,
 "nbformat_minor": 2
}
